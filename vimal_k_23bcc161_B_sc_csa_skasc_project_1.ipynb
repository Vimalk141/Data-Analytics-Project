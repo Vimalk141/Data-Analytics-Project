{
  "nbformat": 4,
  "nbformat_minor": 0,
  "metadata": {
    "colab": {
      "private_outputs": true,
      "provenance": [],
      "cell_execution_strategy": "setup"
    },
    "kernelspec": {
      "name": "python3",
      "display_name": "Python 3"
    },
    "language_info": {
      "name": "python"
    }
  },
  "cells": [
    {
      "cell_type": "code",
      "source": [
        "import pandas as pd\n",
        "import matplotlib.pyplot as plt\n",
        "import seaborn as sns\n"
      ],
      "metadata": {
        "id": "h8lMT1ynqs78"
      },
      "execution_count": null,
      "outputs": []
    },
    {
      "cell_type": "code",
      "source": [
        "#load data\n",
        "from google.colab import files\n",
        "uploaded = files.upload()"
      ],
      "metadata": {
        "id": "R0P10PayZ_Mw"
      },
      "execution_count": null,
      "outputs": []
    },
    {
      "cell_type": "code",
      "source": [
        "print (df.head())"
      ],
      "metadata": {
        "id": "8bQ660bYb9mD"
      },
      "execution_count": null,
      "outputs": []
    },
    {
      "cell_type": "code",
      "source": [
        "df.head(60)"
      ],
      "metadata": {
        "id": "I_va_Ma9cIGY"
      },
      "execution_count": null,
      "outputs": []
    },
    {
      "cell_type": "code",
      "source": [
        "df.info()"
      ],
      "metadata": {
        "id": "2N2SJjDXcQXR"
      },
      "execution_count": null,
      "outputs": []
    },
    {
      "cell_type": "code",
      "source": [
        "df.columns"
      ],
      "metadata": {
        "id": "DekBfrkzcYnH"
      },
      "execution_count": null,
      "outputs": []
    },
    {
      "cell_type": "code",
      "source": [
        "print (df.isnull().sum())"
      ],
      "metadata": {
        "id": "PwMBwbuzg7WM"
      },
      "execution_count": null,
      "outputs": []
    },
    {
      "cell_type": "code",
      "source": [
        "print (df.iloc[0])"
      ],
      "metadata": {
        "id": "3JpY2zqHhIpu"
      },
      "execution_count": null,
      "outputs": []
    },
    {
      "cell_type": "code",
      "source": [
        "print(df[0:3])"
      ],
      "metadata": {
        "id": "mMOQKnCyhRKl"
      },
      "execution_count": null,
      "outputs": []
    },
    {
      "cell_type": "code",
      "source": [
        "# Display the first few rows of the dataset\n",
        "print(df.head())"
      ],
      "metadata": {
        "id": "yc2kMK_OhYrA"
      },
      "execution_count": null,
      "outputs": []
    },
    {
      "cell_type": "code",
      "source": [
        "# Perform any operations or visualizations on the data\n",
        "# Example: Calculate statistics\n",
        "print(\"\\nBasic Statistics:\")\n",
        "print(df.describe())"
      ],
      "metadata": {
        "id": "tfuZvXneiRMt"
      },
      "execution_count": null,
      "outputs": []
    },
    {
      "cell_type": "code",
      "source": [
        "# Create a mock supermarket sales dataset\n",
        "data = {\n",
        "    'Date': ['2024-01-01', '2024-01-02', '2024-01-03', '2024-01-04', '2024-01-05', '2024-01-06'],\n",
        "    'Product': ['cabbage', 'solanum', 'cabbage', 'capsicum', 'cabbage', 'solanum'],\n",
        "    'Quantity Sold': [150, 120, 180, 90, 200, 100],\n",
        "    'Sales Amount': [300, 240, 360, 180, 400, 200],\n",
        "    'Store': ['Store A', 'Store A', 'Store B', 'Store B', 'Store A', 'Store A']\n",
        "}\n",
        "\n",
        "# Convert dictionary to DataFrame\n",
        "df = pd.DataFrame(data)\n",
        "\n",
        "# Convert 'Date' column to datetime format\n",
        "df['Date'] = pd.to_datetime(df['Date'])\n"
      ],
      "metadata": {
        "id": "wP1VbRicpCrk"
      },
      "execution_count": null,
      "outputs": []
    },
    {
      "cell_type": "code",
      "source": [
        "# Basic summary of the dataset\n",
        "print(df.describe())\n"
      ],
      "metadata": {
        "id": "p9lry2Ejp9Ug"
      },
      "execution_count": null,
      "outputs": []
    },
    {
      "cell_type": "code",
      "source": [
        "# Total sales by product\n",
        "total_sales_by_product = df.groupby('Product')['Sales Amount'].sum()\n",
        "print(\"\\nTotal Sales by Product:\")\n",
        "print(total_sales_by_product)\n"
      ],
      "metadata": {
        "id": "Z3h1uft3qDbN"
      },
      "execution_count": null,
      "outputs": []
    },
    {
      "cell_type": "code",
      "source": [
        "# Total sales over time (line plot)\n",
        "plt.figure(figsize=(10, 6))\n",
        "df.groupby('Date')['Sales Amount'].sum().plot(kind='line', marker='o')\n",
        "plt.title('Total Sales Over Time')\n",
        "plt.xlabel('Date')\n",
        "plt.ylabel('Total Sales Amount')\n",
        "plt.grid(True)\n",
        "plt.xticks(rotation=45)\n",
        "plt.show()\n"
      ],
      "metadata": {
        "id": "XlmnoolxqKTg"
      },
      "execution_count": null,
      "outputs": []
    },
    {
      "cell_type": "code",
      "source": [
        "# Sales distribution by store (bar plot)\n",
        "plt.figure(figsize=(10, 6))\n",
        "sns.barplot(x='Store', y='Sales Amount', data=df, estimator=sum, ci=None)\n",
        "plt.title('Total Sales by Store')\n",
        "plt.xlabel('Store')\n",
        "plt.ylabel('Total Sales Amount')\n",
        "plt.show()\n"
      ],
      "metadata": {
        "id": "Zi-CdGXLqPNe"
      },
      "execution_count": null,
      "outputs": []
    },
    {
      "cell_type": "code",
      "source": [
        "# Sales by product and store (pivot table heatmap)\n",
        "pivot_table = df.pivot_table(values='Sales Amount', index='Product', columns='Store', aggfunc='sum')\n",
        "plt.figure(figsize=(10, 6))\n",
        "sns.heatmap(pivot_table, annot=True, cmap=\"YlGnBu\", fmt=\".2f\")\n",
        "plt.title('Sales by Product and Store')\n",
        "plt.show()\n"
      ],
      "metadata": {
        "id": "S9kRArv4qW5e"
      },
      "execution_count": null,
      "outputs": []
    },
    {
      "cell_type": "code",
      "source": [
        "# Scatter plot of Quantity Sold vs Sales Amount\n",
        "plt.figure(figsize=(10, 6))\n",
        "sns.scatterplot(data=df, x='Quantity Sold', y='Sales Amount', hue='Product')\n",
        "plt.title('Quantity Sold vs Sales Amount')\n",
        "plt.xlabel('Quantity Sold')\n",
        "plt.ylabel('Sales Amount')\n",
        "plt.show()\n"
      ],
      "metadata": {
        "id": "1OJRldPoqcok"
      },
      "execution_count": null,
      "outputs": []
    },
    {
      "cell_type": "code",
      "source": [
        "# Correlation Heatmap for numeric columns in the supermarket sales dataset\n",
        "plt.figure(figsize=(10, 6))\n",
        "\n",
        "sns.heatmap(df[['Quantity Sold', 'Sales Amount']].corr(), annot=True, cmap='coolwarm', fmt='.2f')\n",
        "\n",
        "plt.title('Correlation Heatmap of Supermarket Sales Data')\n",
        "\n",
        "plt.show()\n"
      ],
      "metadata": {
        "id": "G4eTRYVjsNp1"
      },
      "execution_count": null,
      "outputs": []
    },
    {
      "cell_type": "code",
      "source": [
        "import matplotlib.pyplot as plt\n",
        "\n",
        "# Categories: Product categories in the supermarket\n",
        "categories = ['cabbage', 'solinum', 'capsicum', 'edible mushroom', 'cabbage', 'aquatic tuberous', 'capsicum', 'solinum']\n",
        "sales = [120, 150, 100, 130, 160, 90, 80, 70]  # Sales (in thousands of dollars) for each category\n",
        "\n",
        "# Create the bar plot\n",
        "plt.bar(categories, sales, color='green', edgecolor='black')\n",
        "\n",
        "# Add titles and labels\n",
        "plt.title('Supermarket Sales by Product Category')\n",
        "plt.xlabel('Product Categories')\n",
        "plt.ylabel('Sales (in thousands of dollars)')\n",
        "\n",
        "# Rotate x-axis labels for better visibility if needed\n",
        "plt.xticks(rotation=45)\n",
        "\n",
        "# Show the plot\n",
        "plt.tight_layout()  # Adjust layout to prevent label overlap\n",
        "plt.show()\n"
      ],
      "metadata": {
        "id": "3a0UI6PWY_dt"
      },
      "execution_count": null,
      "outputs": []
    },
    {
      "cell_type": "code",
      "source": [
        "import matplotlib.pyplot as plt\n",
        "import seaborn as sns\n",
        "\n",
        "# Dataset: Sales distribution by branch\n",
        "sales = {\n",
        "    \"Branch A\": [120, 150, 130, 140, 160, 170, 180, 190],\n",
        "    \"Branch B\": [100, 110, 115, 120, 125, 130, 140, 150],\n",
        "    \"Branch C\": [80, 85, 90, 95, 100, 105, 110, 120],\n",
        "}\n",
        "\n",
        "# Prepare data for Seaborn\n",
        "categories = list(sales.keys())\n",
        "data = list(sales.values())\n",
        "\n",
        "# Create the violin plot\n",
        "sns.violinplot(data=data, palette=\"pastel\")\n",
        "\n",
        "# Add category labels\n",
        "plt.xticks(range(len(categories)), categories)\n",
        "plt.title(\"Sales Distribution by Branch\")\n",
        "plt.xlabel(\"Branch\")\n",
        "plt.ylabel(\"Sales (in thousands of dollars)\")\n",
        "\n",
        "# Show the plot\n",
        "plt.tight_layout()  # Adjust layout if needed\n",
        "plt.show()\n"
      ],
      "metadata": {
        "id": "frtPmHxTZD-1"
      },
      "execution_count": null,
      "outputs": []
    },
    {
      "cell_type": "code",
      "source": [
        "import matplotlib.pyplot as plt\n",
        "import seaborn as sns\n",
        "import pandas as pd\n",
        "\n",
        "# Example dataset: Daily supermarket sales\n",
        "data = {\n",
        "    'Date': ['2024-12-20', '2024-12-21', '2024-12-22', '2024-12-23', '2024-12-24'],\n",
        "    'Daily Sales': [1200, 1500, 1700, 1300, 1800]  # Sales in dollars\n",
        "}\n",
        "\n",
        "# Convert to a DataFrame\n",
        "sales_data = pd.DataFrame(data)\n",
        "\n",
        "# Create the bar plot\n",
        "plt.figure(figsize=(10, 6))\n",
        "sns.barplot(x='Date', y='Daily Sales', data=sales_data, palette='Blues')\n",
        "\n",
        "# Add titles and labels\n",
        "plt.title('Daily Supermarket Sales')\n",
        "plt.xlabel('Date')\n",
        "plt.ylabel('Sales (in dollars)')\n",
        "plt.xticks(rotation=45)\n",
        "\n",
        "# Adjust layout and show the plot\n",
        "plt.tight_layout()\n",
        "plt.show()\n"
      ],
      "metadata": {
        "id": "AWDE7HuMa8kY"
      },
      "execution_count": null,
      "outputs": []
    },
    {
      "cell_type": "code",
      "source": [
        "import matplotlib.pyplot as plt\n",
        "import seaborn as sns\n",
        "import pandas as pd\n",
        "\n",
        "# Example dataset: Total sales over time\n",
        "data = {\n",
        "    'Date': ['2024-12-20', '2024-12-21', '2024-12-22', '2024-12-23', '2024-12-24'],\n",
        "    'Total Sales': [1200, 2700, 4400, 5700, 7500]  # Cumulative sales in dollars\n",
        "}\n",
        "\n",
        "# Convert to a DataFrame\n",
        "sales_data = pd.DataFrame(data)\n",
        "\n",
        "# Create the line plot\n",
        "plt.figure(figsize=(10, 6))\n",
        "sns.lineplot(x='Date', y='Total Sales', data=sales_data, marker='o', color='green')\n",
        "\n",
        "# Add titles and labels\n",
        "plt.title('Total Supermarket Sales Over Time')\n",
        "plt.xlabel('Date')\n",
        "plt.ylabel('Total Sales (in dollars)')\n",
        "plt.xticks(rotation=45)\n",
        "\n",
        "# Adjust layout and show the plot\n",
        "plt.tight_layout()\n",
        "plt.show()\n"
      ],
      "metadata": {
        "id": "Up7YmYcDbUkW"
      },
      "execution_count": null,
      "outputs": []
    },
    {
      "cell_type": "code",
      "source": [
        "import pandas as pd\n",
        "import matplotlib.pyplot as plt\n",
        "import seaborn as sns\n",
        "import numpy as np\n",
        "\n",
        "# Sample supermarket sales dataset for vegetables\n",
        "dates = pd.date_range(start=\"2024-01-01\", periods=30)\n",
        "daily_sales = np.random.randint(50, 500, size=len(dates))  # Random sales between $50 and $500\n",
        "data = pd.DataFrame({\"Date\": dates, \"Vegetable Sales\": daily_sales})\n",
        "\n",
        "# KDE plot\n",
        "plt.figure(figsize=(10, 6))\n",
        "sns.kdeplot(data['Vegetable Sales'], fill=True, color='green', alpha=0.6)\n",
        "plt.title(\"Vegetable Sales Distribution (KDE Plot)\", fontsize=16)\n",
        "plt.xlabel(\"Daily Sales (in dollars)\", fontsize=12)\n",
        "plt.ylabel(\"Density\", fontsize=12)\n",
        "plt.show()\n"
      ],
      "metadata": {
        "id": "PtagB4aXbX-J"
      },
      "execution_count": null,
      "outputs": []
    },
    {
      "cell_type": "code",
      "source": [
        "import matplotlib.pyplot as plt\n",
        "import seaborn as sns\n",
        "import pandas as pd\n",
        "import numpy as np\n",
        "\n",
        "# Sample dataset: Daily vegetable sales\n",
        "dates = pd.date_range(start=\"2024-01-01\", periods=30)\n",
        "daily_sales = np.random.randint(50, 500, size=len(dates))  # Random sales between $50 and $500\n",
        "sales_data = pd.DataFrame({\"Date\": dates, \"Vegetable Sales\": daily_sales})\n",
        "\n",
        "# Create the bar plot\n",
        "plt.figure(figsize=(10, 6))\n",
        "sns.barplot(x='Date', y='Vegetable Sales', data=sales_data, palette='Greens')\n",
        "\n",
        "# Add titles and labels\n",
        "plt.title('Daily Vegetable Sales', fontsize=16)\n",
        "plt.xlabel('Date', fontsize=12)\n",
        "plt.ylabel('Sales (in dollars)', fontsize=12)\n",
        "plt.xticks(rotation=45)\n",
        "\n",
        "# Adjust layout and show the plot\n",
        "plt.tight_layout()\n",
        "plt.show()\n"
      ],
      "metadata": {
        "id": "4fao9dZ-btHV"
      },
      "execution_count": null,
      "outputs": []
    },
    {
      "cell_type": "code",
      "source": [
        "import matplotlib.pyplot as plt\n",
        "import seaborn as sns\n",
        "import pandas as pd\n",
        "import numpy as np\n",
        "\n",
        "# Sample dataset: Daily vegetable sales\n",
        "dates = pd.date_range(start=\"2024-01-01\", periods=30)\n",
        "daily_sales = np.random.randint(50, 500, size=len(dates))  # Random sales between $50 and $500\n",
        "sales_data = pd.DataFrame({\"Date\": dates, \"Vegetable Sales\": daily_sales})\n",
        "\n",
        "# Create the line plot\n",
        "plt.figure(figsize=(10, 6))\n",
        "sns.lineplot(x='Date', y='Vegetable Sales', data=sales_data, marker='o', color='green')\n",
        "\n",
        "# Add titles and labels\n",
        "plt.title('Daily Vegetable Sales', fontsize=16)\n",
        "plt.xlabel('Date', fontsize=12)\n",
        "plt.ylabel('Sales (in dollars)', fontsize=12)\n",
        "plt.xticks(rotation=45)\n",
        "\n",
        "# Adjust layout and show the plot\n",
        "plt.tight_layout()\n",
        "plt.show()\n"
      ],
      "metadata": {
        "id": "HGt0GtpmcO6o"
      },
      "execution_count": null,
      "outputs": []
    },
    {
      "cell_type": "markdown",
      "source": [
        "conclusion :\n",
        "The analysis of the supermarket sales dataset provides valuable insights into sales performance and customer behavior. Key findings indicate variations in sales across different branches, product categories, and customer demographics. Sales trends show that certain times and days experience higher foot traffic, which could be leveraged for targeted promotions. Additionally, customer feedback suggests areas for service improvement. The dataset highlights the significance of payment preferences and customer loyalty programs in driving revenue. These insights can help supermarkets optimize inventory management, enhance customer experience, and implement strategic marketing initiatives to boost overall profitability and operational efficiency.\n"
      ],
      "metadata": {
        "id": "ZCmNfOsy_gyI"
      }
    }
  ]
}